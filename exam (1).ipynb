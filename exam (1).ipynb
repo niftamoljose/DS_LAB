{
 "cells": [
  {
   "cell_type": "code",
   "execution_count": 55,
   "id": "af59ee00",
   "metadata": {},
   "outputs": [
    {
     "name": "stdout",
     "output_type": "stream",
     "text": [
      "              precision    recall  f1-score   support\n",
      "\n",
      "      Setosa       1.00      1.00      1.00        11\n",
      "  Versicolor       1.00      0.62      0.76        13\n",
      "   Virginica       0.55      1.00      0.71         6\n",
      "\n",
      "    accuracy                           0.83        30\n",
      "   macro avg       0.85      0.87      0.82        30\n",
      "weighted avg       0.91      0.83      0.84        30\n",
      "\n",
      "accuracy: 0.8333333333333334\n",
      "y_predicted: ['Versicolor' 'Setosa' 'Versicolor' 'Virginica' 'Setosa' 'Virginica'\n",
      " 'Versicolor' 'Setosa' 'Virginica' 'Setosa' 'Versicolor' 'Setosa'\n",
      " 'Virginica' 'Versicolor' 'Setosa' 'Versicolor' 'Virginica' 'Versicolor'\n",
      " 'Setosa' 'Setosa' 'Versicolor' 'Versicolor' 'Setosa' 'Setosa' 'Setosa'\n",
      " 'Virginica' 'Versicolor' 'Versicolor' 'Versicolor' 'Versicolor']\n"
     ]
    }
   ],
   "source": [
    "import pandas as pd\n",
    "import matplotlib.pyplot as plt\n",
    "import numpy as np\n",
    "dataset=pd.read_csv(\"iris.csv\")\n",
    "X=dataset.iloc[:,:-1].values\n",
    "y=dataset.iloc[:,4].values\n",
    "\n",
    "from sklearn.model_selection import train_test_split\n",
    "X_train,X_test,y_train,y_test=train_test_split(X,y,test_size=0.20)\n",
    "\n",
    "\n",
    "from sklearn.neighbors import KNeighborsClassifier\n",
    "classifier=KNeighborsClassifier(n_neighbors=5)\n",
    "classifier.fit(X_train,y_train)\n",
    "y_pred=classifier.predict(X_test)\n",
    "\n",
    "\n",
    "\n",
    "\n",
    "from sklearn.metrics import classification_report\n",
    "print(classification_report (y_pred,y_test))\n",
    "\n",
    "from sklearn.metrics import accuracy_score\n",
    "print(\"accuracy:\",accuracy_score(y_pred,y_test))\n",
    "\n",
    "print(\"y_predicted:\",y_pred)"
   ]
  },
  {
   "cell_type": "code",
   "execution_count": 56,
   "id": "4971daab",
   "metadata": {},
   "outputs": [
    {
     "name": "stdout",
     "output_type": "stream",
     "text": [
      "Matrix X is: [[1 2]\n",
      " [3 4]]\n",
      "Matrix Y is: [[5 6]\n",
      " [7 8]]\n",
      "Transpose of matrix X: [[1 3]\n",
      " [2 4]]\n",
      "Transpose of matrix Y: [[5 7]\n",
      " [6 8]]\n",
      "Sum of two matrices: [[ 6  8]\n",
      " [10 12]]\n"
     ]
    }
   ],
   "source": [
    "import numpy as np\n",
    "\n",
    "X=np.array([[1,2],[3,4]])\n",
    "Y=np.array([[5,6],[7,8]])\n",
    "print(\"Matrix X is:\",X)\n",
    "print(\"Matrix Y is:\",Y)\n",
    "print(\"Transpose of matrix X:\",X.transpose())\n",
    "print(\"Transpose of matrix Y:\",Y.transpose())\n",
    "print(\"Sum of two matrices:\",np.add(X,Y))"
   ]
  },
  {
   "cell_type": "code",
   "execution_count": null,
   "id": "c9b50986",
   "metadata": {},
   "outputs": [],
   "source": []
  }
 ],
 "metadata": {
  "kernelspec": {
   "display_name": "Python 3",
   "language": "python",
   "name": "python3"
  },
  "language_info": {
   "codemirror_mode": {
    "name": "ipython",
    "version": 3
   },
   "file_extension": ".py",
   "mimetype": "text/x-python",
   "name": "python",
   "nbconvert_exporter": "python",
   "pygments_lexer": "ipython3",
   "version": "3.8.8"
  }
 },
 "nbformat": 4,
 "nbformat_minor": 5
}
